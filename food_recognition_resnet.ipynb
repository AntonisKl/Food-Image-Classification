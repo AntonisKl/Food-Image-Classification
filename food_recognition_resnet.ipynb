{
 "cells": [
  {
   "cell_type": "code",
   "execution_count": 1,
   "metadata": {
    "execution": {
     "iopub.execute_input": "2021-12-19T22:14:27.835087Z",
     "iopub.status.busy": "2021-12-19T22:14:27.834600Z",
     "iopub.status.idle": "2021-12-19T22:14:32.368958Z",
     "shell.execute_reply": "2021-12-19T22:14:32.368231Z",
     "shell.execute_reply.started": "2021-12-19T22:14:27.834915Z"
    },
    "id": "ndWwn6igj8M6",
    "pycharm": {
     "name": "#%%\n"
    }
   },
   "outputs": [],
   "source": [
    "from keras.applications.resnet_v2 import ResNet50V2, ResNet101V2\n",
    "\n",
    "import datetime\n",
    "import keras\n",
    "import matplotlib.pyplot as plt\n",
    "import pandas as pd\n",
    "from pathlib import Path\n",
    "import numpy as np\n",
    "import tensorflow as tf\n",
    "\n",
    "from keras_preprocessing.image import ImageDataGenerator\n",
    "from keras.models import Sequential\n",
    "from keras.losses import CategoricalCrossentropy\n",
    "from keras.optimizers import adam_v2, rmsprop_v2\n",
    "from keras.layers import Input, Conv2D, MaxPool2D, Flatten, Dense, Dropout, BatchNormalization, Layer\n",
    "from typing import List, Set"
   ]
  },
  {
   "cell_type": "code",
   "execution_count": 2,
   "metadata": {
    "execution": {
     "iopub.execute_input": "2021-12-19T22:14:32.371044Z",
     "iopub.status.busy": "2021-12-19T22:14:32.370805Z",
     "iopub.status.idle": "2021-12-19T22:14:51.353289Z",
     "shell.execute_reply": "2021-12-19T22:14:51.352218Z",
     "shell.execute_reply.started": "2021-12-19T22:14:32.371012Z"
    },
    "id": "0mhytESUrSpZ",
    "outputId": "63a66722-3754-40c9-85aa-e30ad6804baf"
   },
   "outputs": [],
   "source": [
    "!pip install gdown"
   ]
  },
  {
   "cell_type": "code",
   "execution_count": 3,
   "metadata": {
    "execution": {
     "iopub.execute_input": "2021-12-19T22:14:51.354995Z",
     "iopub.status.busy": "2021-12-19T22:14:51.354737Z",
     "iopub.status.idle": "2021-12-19T22:15:00.246977Z",
     "shell.execute_reply": "2021-12-19T22:15:00.246178Z",
     "shell.execute_reply.started": "2021-12-19T22:14:51.354958Z"
    },
    "id": "jeZ8hE3BmbgN",
    "outputId": "553a1423-0b15-4a0a-d53f-3a8125f31293"
   },
   "outputs": [],
   "source": [
    "# Download dataset\n",
    "!gdown https://drive.google.com/uc?id=1MrjIi8zPwjoUIpwzn7UlomedT18i4gaD"
   ]
  },
  {
   "cell_type": "code",
   "execution_count": 4,
   "metadata": {
    "execution": {
     "iopub.execute_input": "2021-12-19T22:15:00.250455Z",
     "iopub.status.busy": "2021-12-19T22:15:00.249577Z",
     "iopub.status.idle": "2021-12-19T22:15:09.296341Z",
     "shell.execute_reply": "2021-12-19T22:15:09.295069Z",
     "shell.execute_reply.started": "2021-12-19T22:15:00.250395Z"
    },
    "id": "Xi_ZdVZspZVH",
    "outputId": "cd5813b7-a1ad-4fc8-a43d-0ca858f56b84"
   },
   "outputs": [],
   "source": [
    "!unzip -q \"food-recognition-challenge-2021.zip\" -d dataset"
   ]
  },
  {
   "cell_type": "code",
   "execution_count": 5,
   "metadata": {
    "execution": {
     "iopub.execute_input": "2021-12-19T22:15:09.300149Z",
     "iopub.status.busy": "2021-12-19T22:15:09.299808Z",
     "iopub.status.idle": "2021-12-19T22:15:13.583528Z",
     "shell.execute_reply": "2021-12-19T22:15:13.582597Z",
     "shell.execute_reply.started": "2021-12-19T22:15:09.300105Z"
    },
    "id": "01CaqPnktVlo"
   },
   "outputs": [],
   "source": [
    "!cp dataset/train_set/train_set/* dataset/train_set/\n",
    "!rm -rf dataset/train_set/train_set"
   ]
  },
  {
   "cell_type": "code",
   "execution_count": 6,
   "metadata": {
    "execution": {
     "iopub.execute_input": "2021-12-19T22:15:13.585882Z",
     "iopub.status.busy": "2021-12-19T22:15:13.585559Z",
     "iopub.status.idle": "2021-12-19T22:15:15.411975Z",
     "shell.execute_reply": "2021-12-19T22:15:15.411134Z",
     "shell.execute_reply.started": "2021-12-19T22:15:13.585834Z"
    },
    "id": "cFTA5T_Mrwob"
   },
   "outputs": [],
   "source": [
    "INPUT_DATASET = './dataset/train_set'             # Path to a folder that contains all training images\n",
    "PATH_LABELS = './dataset/train_labels.csv'        # Path to CSV file containing training labels\n",
    "PATH_DESTINATION = './dataset/train_set_labelled' # Where new folder will be created with dataset organised in folders by label\n",
    "\n",
    "# Get a dict mapping file name to its label\n",
    "# Example: {'train_1.jpg': 21}\n",
    "file_label_dict = pd.read_csv(PATH_LABELS).set_index('img_name').to_dict()['label']\n",
    "\n",
    "for file in Path(INPUT_DATASET).iterdir():\n",
    "    label = file_label_dict[file.name]\n",
    "    dest_path = Path(PATH_DESTINATION) / str(label)\n",
    "    # Create missing directories if necessary\n",
    "    dest_path.mkdir(parents=True, exist_ok=True)\n",
    "    # Copy the file to the folder with a correct label\n",
    "    file.rename(dest_path / file.name)\n"
   ]
  },
  {
   "cell_type": "code",
   "execution_count": 7,
   "metadata": {
    "execution": {
     "iopub.execute_input": "2021-12-19T22:15:15.413907Z",
     "iopub.status.busy": "2021-12-19T22:15:15.413601Z",
     "iopub.status.idle": "2021-12-19T22:15:15.423959Z",
     "shell.execute_reply": "2021-12-19T22:15:15.423170Z",
     "shell.execute_reply.started": "2021-12-19T22:15:15.413866Z"
    }
   },
   "outputs": [],
   "source": [
    "for folder in Path(PATH_DESTINATION).iterdir():\n",
    "    new_filename = ''\n",
    "    for char in folder.name:\n",
    "        new_filename += chr(int(char) + 65)\n",
    "    new_filename = new_filename.rjust(3, 'A')\n",
    "    folder.rename(PATH_DESTINATION + '/' + new_filename)"
   ]
  },
  {
   "cell_type": "code",
   "execution_count": 9,
   "metadata": {
    "execution": {
     "iopub.execute_input": "2021-12-19T22:15:15.714712Z",
     "iopub.status.busy": "2021-12-19T22:15:15.714183Z",
     "iopub.status.idle": "2021-12-19T22:15:17.820663Z",
     "shell.execute_reply": "2021-12-19T22:15:17.819670Z",
     "shell.execute_reply.started": "2021-12-19T22:15:15.714661Z"
    },
    "id": "_038uxn6j8M8",
    "outputId": "645f1869-02a2-4d8b-8cde-f4f219bf1f13",
    "pycharm": {
     "name": "#%%\n"
    }
   },
   "outputs": [],
   "source": [
    "# TODO Find a way to turn off that red debugging spam from tensorflow, this does not work\n",
    "tf.get_logger().setLevel('WARN')\n",
    "\n",
    "print(f'Using GPU {tf.test.gpu_device_name()}')"
   ]
  },
  {
   "cell_type": "code",
   "execution_count": 10,
   "metadata": {
    "execution": {
     "iopub.execute_input": "2021-12-19T22:15:17.822650Z",
     "iopub.status.busy": "2021-12-19T22:15:17.822190Z",
     "iopub.status.idle": "2021-12-19T22:15:18.146736Z",
     "shell.execute_reply": "2021-12-19T22:15:18.145760Z",
     "shell.execute_reply.started": "2021-12-19T22:15:17.822609Z"
    },
    "id": "KAxpYOo-j8M9",
    "outputId": "94976dd9-d3dd-4208-eb67-5a08716a5622",
    "pycharm": {
     "name": "#%%\n"
    }
   },
   "outputs": [],
   "source": [
    "# Global params and constants\n",
    "WIDTH = 224\n",
    "HEIGHT = 224\n",
    "BATCH_SIZE = 32\n",
    "EPOCHS = 50\n",
    "TRAIN_IMAGES_PATH = r'./dataset/train_set_labelled'\n",
    "TEST_IMAGES_PATH = r'./dataset/test_set'\n",
    "TRAIN_LABELS_PATH = r'./dataset/train_labels.csv'\n",
    "PREDICTIONS_PATH = r'predictions.csv'\n",
    "NUM_EXAMPLES = len(list(Path(TRAIN_IMAGES_PATH).rglob('*.jpg')))\n",
    "NUM_CLASSES = len(list(Path(TRAIN_IMAGES_PATH).iterdir()))\n",
    "print(f'Num classes: {NUM_CLASSES}  num samples: {NUM_EXAMPLES}')"
   ]
  },
  {
   "cell_type": "code",
   "execution_count": 11,
   "metadata": {
    "execution": {
     "iopub.execute_input": "2021-12-19T22:15:18.151432Z",
     "iopub.status.busy": "2021-12-19T22:15:18.151027Z",
     "iopub.status.idle": "2021-12-19T22:15:20.776976Z",
     "shell.execute_reply": "2021-12-19T22:15:20.774440Z",
     "shell.execute_reply.started": "2021-12-19T22:15:18.151350Z"
    },
    "id": "BdWM7K4Xj8M-",
    "outputId": "4b90dd61-a0c0-4c31-8811-4894fc61a168",
    "pycharm": {
     "name": "#%%\n"
    }
   },
   "outputs": [],
   "source": [
    "# Generators allow to get the data in batches without having to worry about the memory\n",
    "generator = ImageDataGenerator(\n",
    "    validation_split=0.1,\n",
    "    featurewise_center=True,\n",
    "    featurewise_std_normalization=True,\n",
    "    rotation_range=90,\n",
    "    width_shift_range=0.2,\n",
    "    height_shift_range=0.2,\n",
    "    rescale=1. // 255,\n",
    "    shear_range=0.2,\n",
    "    zoom_range=0.2,\n",
    "    fill_mode='nearest',\n",
    "    brightness_range=[0.8, 1.2]\n",
    ")\n",
    "train_gen = generator.flow_from_directory(\n",
    "    directory=TRAIN_IMAGES_PATH,\n",
    "    class_mode='categorical',\n",
    "    batch_size=BATCH_SIZE,\n",
    "    target_size=(WIDTH, HEIGHT),\n",
    "    shuffle=True,\n",
    "    subset='training'\n",
    ")\n",
    "validation_gen = generator.flow_from_directory(\n",
    "    directory=TRAIN_IMAGES_PATH,\n",
    "    class_mode='categorical',\n",
    "    batch_size=BATCH_SIZE,\n",
    "    target_size=(WIDTH, HEIGHT),\n",
    "    shuffle=True,\n",
    "    subset='validation'\n",
    ")\n",
    "test_gen = generator.flow_from_directory(\n",
    "    directory=TEST_IMAGES_PATH,\n",
    "    class_mode=None,\n",
    "    batch_size=BATCH_SIZE,\n",
    "    target_size=(WIDTH, HEIGHT),\n",
    "    shuffle=False\n",
    ")"
   ]
  },
  {
   "cell_type": "code",
   "execution_count": 13,
   "metadata": {
    "execution": {
     "iopub.execute_input": "2021-12-19T22:15:20.786449Z",
     "iopub.status.busy": "2021-12-19T22:15:20.786018Z",
     "iopub.status.idle": "2021-12-19T22:15:23.792935Z",
     "shell.execute_reply": "2021-12-19T22:15:23.792255Z",
     "shell.execute_reply.started": "2021-12-19T22:15:20.786368Z"
    },
    "id": "LrKPobvGj8M_",
    "outputId": "f56bd335-f8d8-45ba-92b4-6a5ac2caab17",
    "pycharm": {
     "name": "#%%\n"
    }
   },
   "outputs": [],
   "source": [
    "from matplotlib import pyplot as plt\n",
    "\n",
    "for _ in range(5):\n",
    "    img, label = train_gen.next()\n",
    "    print(np.max(img[0][0]))\n",
    "    plt.imshow(img[0].astype(np.uint8))\n",
    "    plt.show()"
   ]
  },
  {
   "cell_type": "code",
   "execution_count": 14,
   "metadata": {
    "execution": {
     "iopub.execute_input": "2021-12-19T22:15:23.796679Z",
     "iopub.status.busy": "2021-12-19T22:15:23.796146Z",
     "iopub.status.idle": "2021-12-19T22:15:23.804787Z",
     "shell.execute_reply": "2021-12-19T22:15:23.803832Z",
     "shell.execute_reply.started": "2021-12-19T22:15:23.796639Z"
    },
    "id": "YcBELpUxj8M_",
    "pycharm": {
     "name": "#%%\n"
    }
   },
   "outputs": [],
   "source": [
    "def make_predictions(model: keras.Model, test_gen: ImageDataGenerator):\n",
    "    \"\"\"\n",
    "    Output a CSV with model's predictions on test set that is ready to be submitted to Kaggle.\n",
    "    The file will be created in the main directory of the project, named 'predictions <current_time>'\n",
    "    \"\"\"\n",
    "    predictions = model.predict(test_gen, verbose=True, batch_size=BATCH_SIZE)\n",
    "    # Get names of test files in the same order they were used for predictions\n",
    "    file_names = list(map(lambda x: x.split('/')[1], test_gen.filenames))\n",
    "    # Obtain final labels for predictions, add one since classes start from one\n",
    "    predictions = predictions.argmax(axis=1) + 1\n",
    "    result = pd.DataFrame({'img_name': file_names, 'label': predictions})\n",
    "    result = result.set_index('img_name') \n",
    "    # Save the CSV file to main project directory\n",
    "    result.to_csv(f'predictions {datetime.datetime.now().strftime(\"%d-%m-%Y %Hh %Mm %Ss\")}')"
   ]
  },
  {
   "cell_type": "code",
   "execution_count": 20,
   "metadata": {
    "execution": {
     "iopub.execute_input": "2021-12-19T22:16:36.133304Z",
     "iopub.status.busy": "2021-12-19T22:16:36.133052Z",
     "iopub.status.idle": "2021-12-19T22:16:37.871140Z",
     "shell.execute_reply": "2021-12-19T22:16:37.870429Z",
     "shell.execute_reply.started": "2021-12-19T22:16:36.133276Z"
    },
    "id": "ZjxVRsYXj8NB",
    "outputId": "a1b74be8-f8e0-47b0-c738-52f4d2e92ac3",
    "pycharm": {
     "name": "#%%\n"
    }
   },
   "outputs": [],
   "source": [
    "from tensorflow.keras.applications import ResNet50\n",
    "\n",
    "feature_extractor = ResNet50(weights='imagenet', \n",
    "                             input_shape=(WIDTH, HEIGHT, 3),\n",
    "                             include_top=False)\n",
    "\n",
    "num_layers = len(feature_extractor.layers)\n",
    "for layer in feature_extractor.layers[:num_layers // 2]:\n",
    "    layer.trainable = False\n",
    "\n",
    "model = Sequential()\n",
    "model.add(tf.keras.Input(shape=(WIDTH, HEIGHT, 3)))\n",
    "model.add(feature_extractor)\n",
    "model.add(tf.keras.layers.GlobalAveragePooling2D())\n",
    "model.add(Dropout(0.5))\n",
    "model.add(BatchNormalization())\n",
    "model.add(tf.keras.layers.Dense(NUM_CLASSES, activation='softmax'))\n",
    "\n",
    "model.compile(optimizer='adam',\n",
    "             loss='categorical_crossentropy',\n",
    "             metrics=['accuracy'])\n",
    "\n",
    "model.summary()"
   ]
  },
  {
   "cell_type": "code",
   "execution_count": 21,
   "metadata": {
    "execution": {
     "iopub.execute_input": "2021-12-19T22:16:48.570126Z",
     "iopub.status.busy": "2021-12-19T22:16:48.569868Z",
     "iopub.status.idle": "2021-12-19T22:16:49.274248Z",
     "shell.execute_reply": "2021-12-19T22:16:49.273189Z",
     "shell.execute_reply.started": "2021-12-19T22:16:48.570096Z"
    },
    "id": "0svaRww1F70L"
   },
   "outputs": [],
   "source": [
    "!mkdir training\n",
    "checkpoint_filepath = 'training/weights.{epoch:02d}-{val_loss:.2f}.hdf5'\n",
    "model_checkpoint_callback = tf.keras.callbacks.ModelCheckpoint(\n",
    "    filepath=checkpoint_filepath,\n",
    "    save_weights_only=True,\n",
    "    monitor='val_accuracy',\n",
    "    mode='max',\n",
    "    save_best_only=True)"
   ]
  },
  {
   "cell_type": "code",
   "execution_count": 22,
   "metadata": {
    "execution": {
     "iopub.execute_input": "2021-12-19T22:16:50.716642Z",
     "iopub.status.busy": "2021-12-19T22:16:50.715989Z",
     "iopub.status.idle": "2021-12-19T22:17:01.522573Z",
     "shell.execute_reply": "2021-12-19T22:17:01.519921Z",
     "shell.execute_reply.started": "2021-12-19T22:16:50.716601Z"
    },
    "id": "xrLzhBC19dvx",
    "outputId": "1d206005-2b4c-4105-9df9-b8ba45d00777"
   },
   "outputs": [],
   "source": [
    "model.fit(train_gen, epochs=EPOCHS, validation_data=validation_gen, callbacks=[model_checkpoint_callback])"
   ]
  },
  {
   "cell_type": "code",
   "execution_count": null,
   "metadata": {
    "execution": {
     "iopub.status.busy": "2021-12-19T22:16:24.902628Z",
     "iopub.status.idle": "2021-12-19T22:16:24.902937Z",
     "shell.execute_reply": "2021-12-19T22:16:24.902797Z",
     "shell.execute_reply.started": "2021-12-19T22:16:24.902775Z"
    }
   },
   "outputs": [],
   "source": [
    "make_predictions(model, test_gen)"
   ]
  }
 ],
 "metadata": {
  "kernelspec": {
   "display_name": "Python 3",
   "language": "python",
   "name": "python3"
  },
  "language_info": {
   "codemirror_mode": {
    "name": "ipython",
    "version": 3
   },
   "file_extension": ".py",
   "mimetype": "text/x-python",
   "name": "python",
   "nbconvert_exporter": "python",
   "pygments_lexer": "ipython3",
   "version": "3.8.8"
  }
 },
 "nbformat": 4,
 "nbformat_minor": 4
}
